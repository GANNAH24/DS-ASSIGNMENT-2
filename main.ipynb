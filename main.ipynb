{
 "cells": [
  {
   "cell_type": "code",
   "id": "initial_id",
   "metadata": {
    "collapsed": true,
    "ExecuteTime": {
     "end_time": "2025-04-19T01:18:30.163232Z",
     "start_time": "2025-04-19T01:18:30.159384Z"
    }
   },
   "source": [
    "import pandas as pd\n",
    "from sklearn.model_selection import train_test_split\n",
    "from sklearn.preprocessing import LabelEncoder, StandardScaler\n",
    "from sklearn.naive_bayes import GaussianNB\n",
    "from sklearn.metrics import accuracy_score, classification_report, confusion_matrix\n",
    "from sklearn.tree import DecisionTreeClassifier\n",
    "from sklearn.neighbors import KNeighborsClassifier\n",
    "from sklearn.ensemble import RandomForestClassifier\n"
   ],
   "outputs": [],
   "execution_count": 17
  },
  {
   "metadata": {
    "ExecuteTime": {
     "end_time": "2025-04-19T00:47:25.247102Z",
     "start_time": "2025-04-19T00:47:25.233247Z"
    }
   },
   "cell_type": "code",
   "source": [
    "# Load the dataset\n",
    "file_path = r\"C:\\Users\\ganna\\PycharmProjects\\DS-ASSIGNMENT-2\\loan_approval_dataset.csv\"\n",
    "#file_path = r\"C:\\Users\\elena\\Downloads\\archive\\loan_approval_dataset.csv\"\n",
    "\n",
    "columns = [\n",
    "    \"Applicant_ID\", \"Age\", \"Income\", \"Credit_Score\", \"Loan_Amount\", \"Loan_Term\",\n",
    "    \"Interest_Rate\", \"Employment_Status\", \"Debt_to_Income_Ratio\", \"Marital_Status\",\n",
    "    \"Number_of_Dependents\", \"Property_Ownership\", \"Loan_Purpose\", \"Previous_Defaults\"\n",
    "]\n",
    "data = pd.read_csv(file_path, header=0, names=columns)\n",
    "\n",
    "# Display the first few rows of the dataset\n",
    "print(data.head())"
   ],
   "id": "9a64a52b49ccf536",
   "outputs": [
    {
     "name": "stdout",
     "output_type": "stream",
     "text": [
      "   Applicant_ID  Age  Income  Credit_Score  Loan_Amount  Loan_Term  \\\n",
      "0             1   56   21920           639       452748         72   \n",
      "1             2   69  126121           655       257134         60   \n",
      "2             3   46   96872           467       226437         72   \n",
      "3             4   32  101132           751       310480         12   \n",
      "4             5   60   22093           404        13070         12   \n",
      "\n",
      "   Interest_Rate Employment_Status  Debt_to_Income_Ratio Marital_Status  \\\n",
      "0           4.53        Unemployed                 43.35        Married   \n",
      "1           5.38        Unemployed                 10.42       Divorced   \n",
      "2           3.46     Self-Employed                 45.39       Divorced   \n",
      "3          14.00        Unemployed                  8.58         Single   \n",
      "4           9.13     Self-Employed                 20.70       Divorced   \n",
      "\n",
      "   Number_of_Dependents Property_Ownership Loan_Purpose  Previous_Defaults  \n",
      "0                     2           Mortgage     Business                  0  \n",
      "1                     0           Mortgage    Education                  0  \n",
      "2                     4           Mortgage          Car                  0  \n",
      "3                     2           Mortgage     Business                  0  \n",
      "4                     1           Mortgage         Home                  0  \n"
     ]
    }
   ],
   "execution_count": 3
  },
  {
   "metadata": {
    "ExecuteTime": {
     "end_time": "2025-04-19T00:47:25.270353Z",
     "start_time": "2025-04-19T00:47:25.263354Z"
    }
   },
   "cell_type": "code",
   "source": [
    "# Categorical Encoding\n",
    "categorical_columns = [\"Employment_Status\", \"Marital_Status\",\"Property_Ownership\", \"Loan_Purpose\"]\n",
    "label_encoders = {}\n",
    "for col in categorical_columns:\n",
    "    le = LabelEncoder()\n",
    "    data[col] = le.fit_transform(data[col])\n",
    "    label_encoders[col] = le\n"
   ],
   "id": "70f7ccc37765a8e7",
   "outputs": [],
   "execution_count": 4
  },
  {
   "metadata": {
    "ExecuteTime": {
     "end_time": "2025-04-19T00:47:25.294051Z",
     "start_time": "2025-04-19T00:47:25.287849Z"
    }
   },
   "cell_type": "code",
   "source": [
    "# Split the Data\n",
    "X = data.drop(columns=['Loan_Purpose'])\n",
    "y = data['Loan_Purpose']\n",
    "print(X)\n",
    "print(y)\n"
   ],
   "id": "bd86f43ba61f4708",
   "outputs": [
    {
     "name": "stdout",
     "output_type": "stream",
     "text": [
      "      Applicant_ID  Age  Income  Credit_Score  Loan_Amount  Loan_Term  \\\n",
      "0                1   56   21920           639       452748         72   \n",
      "1                2   69  126121           655       257134         60   \n",
      "2                3   46   96872           467       226437         72   \n",
      "3                4   32  101132           751       310480         12   \n",
      "4                5   60   22093           404        13070         12   \n",
      "...            ...  ...     ...           ...          ...        ...   \n",
      "4995          4996   24  169594           755       299944         48   \n",
      "4996          4997   66  162728           829        15886         24   \n",
      "4997          4998   26  166965           468       477830         48   \n",
      "4998          4999   53   36493           442       205981         60   \n",
      "4999          5000   36  154704           336       183308         36   \n",
      "\n",
      "      Interest_Rate  Employment_Status  Debt_to_Income_Ratio  Marital_Status  \\\n",
      "0              4.53                  2                 43.35               1   \n",
      "1              5.38                  2                 10.42               0   \n",
      "2              3.46                  1                 45.39               0   \n",
      "3             14.00                  2                  8.58               2   \n",
      "4              9.13                  1                 20.70               0   \n",
      "...             ...                ...                   ...             ...   \n",
      "4995           9.42                  1                 40.83               1   \n",
      "4996           3.47                  2                 34.88               1   \n",
      "4997           9.08                  1                 37.84               1   \n",
      "4998          12.39                  1                 18.83               3   \n",
      "4999           3.51                  2                 16.85               3   \n",
      "\n",
      "      Number_of_Dependents  Property_Ownership  Previous_Defaults  \n",
      "0                        2                   0                  0  \n",
      "1                        0                   0                  0  \n",
      "2                        4                   0                  0  \n",
      "3                        2                   0                  0  \n",
      "4                        1                   0                  0  \n",
      "...                    ...                 ...                ...  \n",
      "4995                     1                   0                  0  \n",
      "4996                     1                   1                  0  \n",
      "4997                     4                   1                  0  \n",
      "4998                     0                   0                  0  \n",
      "4999                     1                   1                  0  \n",
      "\n",
      "[5000 rows x 13 columns]\n",
      "0       0\n",
      "1       2\n",
      "2       1\n",
      "3       0\n",
      "4       3\n",
      "       ..\n",
      "4995    3\n",
      "4996    2\n",
      "4997    0\n",
      "4998    0\n",
      "4999    4\n",
      "Name: Loan_Purpose, Length: 5000, dtype: int64\n"
     ]
    }
   ],
   "execution_count": 5
  },
  {
   "metadata": {
    "ExecuteTime": {
     "end_time": "2025-04-19T00:47:25.317960Z",
     "start_time": "2025-04-19T00:47:25.312538Z"
    }
   },
   "cell_type": "code",
   "source": "X_train, X_test, y_train, y_test = train_test_split(X, y, test_size=0.2, random_state=42)\n",
   "id": "bc3e6d26a04fc49b",
   "outputs": [],
   "execution_count": 6
  },
  {
   "metadata": {
    "ExecuteTime": {
     "end_time": "2025-04-19T00:47:25.430027Z",
     "start_time": "2025-04-19T00:47:25.336905Z"
    }
   },
   "cell_type": "code",
   "source": [
    "# 1. Feature Scaling (Critical for KNN!)\n",
    "scaler = StandardScaler()\n",
    "X_train_scaled = scaler.fit_transform(X_train)\n",
    "X_test_scaled = scaler.transform(X_test)  # Use the same scaler!\n",
    "\n",
    "# 2. Initialize and train KNN (start with k=5)\n",
    "knn = KNeighborsClassifier(n_neighbors=5)\n",
    "knn.fit(X_train_scaled, y_train)\n",
    "\n",
    "# 3. Predict and evaluate\n",
    "y_pred_knn = knn.predict(X_test_scaled)\n",
    "\n",
    "# 4. Metrics\n",
    "print(\"\\n=== KNN Results ===\")\n",
    "print(f\"Accuracy: {accuracy_score(y_test, y_pred_knn):.2f}\")\n",
    "print(\"Confusion Matrix:\")\n",
    "print(confusion_matrix(y_test, y_pred_knn))\n",
    "print(\"Classification Report:\")\n",
    "print(classification_report(y_test, y_pred_knn))"
   ],
   "id": "f1423f6429d8d93a",
   "outputs": [
    {
     "name": "stdout",
     "output_type": "stream",
     "text": [
      "\n",
      "=== KNN Results ===\n",
      "Accuracy: 0.19\n",
      "Confusion Matrix:\n",
      "[[54 30 35 23 19]\n",
      " [55 45 44 29 33]\n",
      " [59 51 32 28 33]\n",
      " [70 53 40 28 37]\n",
      " [68 44 37 23 30]]\n",
      "Classification Report:\n",
      "              precision    recall  f1-score   support\n",
      "\n",
      "           0       0.18      0.34      0.23       161\n",
      "           1       0.20      0.22      0.21       206\n",
      "           2       0.17      0.16      0.16       203\n",
      "           3       0.21      0.12      0.16       228\n",
      "           4       0.20      0.15      0.17       202\n",
      "\n",
      "    accuracy                           0.19      1000\n",
      "   macro avg       0.19      0.20      0.19      1000\n",
      "weighted avg       0.19      0.19      0.18      1000\n",
      "\n"
     ]
    }
   ],
   "execution_count": 7
  },
  {
   "metadata": {
    "ExecuteTime": {
     "end_time": "2025-04-19T00:47:25.458425Z",
     "start_time": "2025-04-19T00:47:25.446949Z"
    }
   },
   "cell_type": "code",
   "source": [
    "#NAIVE BAYES\n",
    "\n",
    "# initialize the naive bayes classifier\n",
    "nb_classifier = GaussianNB()\n",
    "\n",
    "# train the classifier on the training data\n",
    "nb_classifier.fit(X_train, y_train)\n",
    "\n",
    "# make predictions on the test set\n",
    "y_pred = nb_classifier.predict(X_test)\n",
    "\n",
    "# evaluate the model\n",
    "accuracy = accuracy_score(y_test, y_pred)\n",
    "print(f\"Accuracy: {accuracy}\")\n",
    "\n",
    "# Confusion Matrix\n",
    "print(\"Confusion Matrix:\")\n",
    "print(confusion_matrix(y_test, y_pred))\n",
    "\n",
    "print(\"Classification Report:\")\n",
    "print(classification_report(y_test, y_pred))\n"
   ],
   "id": "bcab2672b0bc9d42",
   "outputs": [
    {
     "name": "stdout",
     "output_type": "stream",
     "text": [
      "Accuracy: 0.184\n",
      "Confusion Matrix:\n",
      "[[34 38 23 10 56]\n",
      " [54 44 28 19 61]\n",
      " [63 37 26 14 63]\n",
      " [54 60 28 18 68]\n",
      " [48 37 37 18 62]]\n",
      "Classification Report:\n",
      "              precision    recall  f1-score   support\n",
      "\n",
      "           0       0.13      0.21      0.16       161\n",
      "           1       0.20      0.21      0.21       206\n",
      "           2       0.18      0.13      0.15       203\n",
      "           3       0.23      0.08      0.12       228\n",
      "           4       0.20      0.31      0.24       202\n",
      "\n",
      "    accuracy                           0.18      1000\n",
      "   macro avg       0.19      0.19      0.18      1000\n",
      "weighted avg       0.19      0.18      0.18      1000\n",
      "\n"
     ]
    }
   ],
   "execution_count": 8
  },
  {
   "metadata": {
    "ExecuteTime": {
     "end_time": "2025-04-19T00:47:25.541242Z",
     "start_time": "2025-04-19T00:47:25.489993Z"
    }
   },
   "cell_type": "code",
   "source": [
    "# DECISION TREE\n",
    "\n",
    "# Initialize the Decision Tree classifier\n",
    "dt_classifier = DecisionTreeClassifier(random_state=42)\n",
    "\n",
    "# Train the classifier on the training data\n",
    "dt_classifier.fit(X_train, y_train)\n",
    "\n",
    "# Make predictions on the test set\n",
    "y_pred_dt = dt_classifier.predict(X_test)\n",
    "\n",
    "# Evaluate the model\n",
    "accuracy_dt = accuracy_score(y_test, y_pred_dt)\n",
    "print(f\"Decision Tree Accuracy: {accuracy_dt}\")\n",
    "\n",
    "# Confusion Matrix\n",
    "print(\"Confusion Matrix:\")\n",
    "print(confusion_matrix(y_test, y_pred))\n",
    "\n",
    "print(\"Decision Tree Classification Report:\")\n",
    "print(classification_report(y_test, y_pred_dt))\n"
   ],
   "id": "79826f9a46b57bd3",
   "outputs": [
    {
     "name": "stdout",
     "output_type": "stream",
     "text": [
      "Decision Tree Accuracy: 0.217\n",
      "Confusion Matrix:\n",
      "[[34 38 23 10 56]\n",
      " [54 44 28 19 61]\n",
      " [63 37 26 14 63]\n",
      " [54 60 28 18 68]\n",
      " [48 37 37 18 62]]\n",
      "Decision Tree Classification Report:\n",
      "              precision    recall  f1-score   support\n",
      "\n",
      "           0       0.14      0.15      0.14       161\n",
      "           1       0.21      0.21      0.21       206\n",
      "           2       0.21      0.18      0.20       203\n",
      "           3       0.25      0.24      0.24       228\n",
      "           4       0.25      0.29      0.27       202\n",
      "\n",
      "    accuracy                           0.22      1000\n",
      "   macro avg       0.21      0.21      0.21      1000\n",
      "weighted avg       0.22      0.22      0.22      1000\n",
      "\n"
     ]
    }
   ],
   "execution_count": 9
  },
  {
   "metadata": {
    "ExecuteTime": {
     "end_time": "2025-04-19T01:02:30.793289Z",
     "start_time": "2025-04-19T01:02:28.953258Z"
    }
   },
   "cell_type": "code",
   "source": [
    "# 1. Initialize Random Forest\n",
    "# (Use 100 trees and set random_state for reproducibility)\n",
    "rf = RandomForestClassifier(n_estimators=100, random_state=42)\n",
    "\n",
    "# 2. Train the model (no scaling needed for tree-based models!)\n",
    "rf.fit(X_train, y_train)\n",
    "\n",
    "# 3. Predict and evaluate\n",
    "y_pred_rf = rf.predict(X_test)\n",
    "\n",
    "# 4. Metrics\n",
    "print(\"\\n=== Random Forest Results ===\")\n",
    "print(f\"Accuracy: {accuracy_score(y_test, y_pred_rf):.2f}\")\n",
    "print(\"Confusion Matrix:\")\n",
    "print(confusion_matrix(y_test, y_pred_rf))\n",
    "print(\"Classification Report:\")\n",
    "print(classification_report(y_test, y_pred_rf))\n",
    "\n"
   ],
   "id": "56e27f1b15c3d6ed",
   "outputs": [
    {
     "name": "stdout",
     "output_type": "stream",
     "text": [
      "\n",
      "=== Random Forest Results ===\n",
      "Accuracy: 0.21\n",
      "Confusion Matrix:\n",
      "[[40 36 31 23 31]\n",
      " [43 39 43 34 47]\n",
      " [57 49 48 20 29]\n",
      " [48 50 48 32 50]\n",
      " [54 32 41 23 52]]\n",
      "Classification Report:\n",
      "              precision    recall  f1-score   support\n",
      "\n",
      "           0       0.17      0.25      0.20       161\n",
      "           1       0.19      0.19      0.19       206\n",
      "           2       0.23      0.24      0.23       203\n",
      "           3       0.24      0.14      0.18       228\n",
      "           4       0.25      0.26      0.25       202\n",
      "\n",
      "    accuracy                           0.21      1000\n",
      "   macro avg       0.21      0.21      0.21      1000\n",
      "weighted avg       0.22      0.21      0.21      1000\n",
      "\n"
     ]
    }
   ],
   "execution_count": 14
  },
  {
   "metadata": {
    "ExecuteTime": {
     "end_time": "2025-04-19T01:21:53.508388Z",
     "start_time": "2025-04-19T01:21:53.505390Z"
    }
   },
   "cell_type": "code",
   "source": "",
   "id": "2a5f6ea2a17fae42",
   "outputs": [],
   "execution_count": null
  }
 ],
 "metadata": {
  "kernelspec": {
   "display_name": "Python 3",
   "language": "python",
   "name": "python3"
  },
  "language_info": {
   "codemirror_mode": {
    "name": "ipython",
    "version": 2
   },
   "file_extension": ".py",
   "mimetype": "text/x-python",
   "name": "python",
   "nbconvert_exporter": "python",
   "pygments_lexer": "ipython2",
   "version": "2.7.6"
  }
 },
 "nbformat": 4,
 "nbformat_minor": 5
}
